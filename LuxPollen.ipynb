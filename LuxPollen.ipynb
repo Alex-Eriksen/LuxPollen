{
  "nbformat": 4,
  "nbformat_minor": 0,
  "metadata": {
    "colab": {
      "name": "LuxPollen.ipynb",
      "provenance": [],
      "collapsed_sections": [],
      "toc_visible": true,
      "authorship_tag": "ABX9TyPIJuQFEM+BpHFMiQO5dIpy",
      "include_colab_link": true
    },
    "kernelspec": {
      "name": "python3",
      "display_name": "Python 3"
    },
    "language_info": {
      "name": "python"
    }
  },
  "cells": [
    {
      "cell_type": "markdown",
      "metadata": {
        "id": "view-in-github",
        "colab_type": "text"
      },
      "source": [
        "<a href=\"https://colab.research.google.com/github/lpc49/LuxPollen/blob/main/LuxPollen.ipynb\" target=\"_parent\"><img src=\"https://colab.research.google.com/assets/colab-badge.svg\" alt=\"Open In Colab\"/></a>"
      ]
    },
    {
      "cell_type": "markdown",
      "metadata": {
        "id": "FWBuxY5CnL2_"
      },
      "source": [
        "# Pollen in Luxembourg - Data loading"
      ]
    },
    {
      "cell_type": "code",
      "metadata": {
        "id": "G1kCl_XxnAbj"
      },
      "source": [
        "import pandas as pd"
      ],
      "execution_count": 1,
      "outputs": []
    },
    {
      "cell_type": "markdown",
      "metadata": {
        "id": "JgWbze7K5cRj"
      },
      "source": [
        "## Web scraping from Pollen.lu"
      ]
    },
    {
      "cell_type": "markdown",
      "metadata": {
        "id": "BxXzuz8gnKuC"
      },
      "source": [
        "In this section we scrape the data directly from the pollen.lu website. We do not use data from https://data.public.lu/en/ as it is not updated."
      ]
    },
    {
      "cell_type": "markdown",
      "metadata": {
        "id": "Zidi0JzMFLhe"
      },
      "source": [
        "### Example for the first week of 1992"
      ]
    },
    {
      "cell_type": "code",
      "metadata": {
        "id": "IBguPyS_5nkw"
      },
      "source": [
        "import requests\n",
        "from bs4 import BeautifulSoup"
      ],
      "execution_count": 2,
      "outputs": []
    },
    {
      "cell_type": "code",
      "metadata": {
        "colab": {
          "base_uri": "https://localhost:8080/"
        },
        "id": "CUbarX_66IiG",
        "outputId": "f7ab9153-73be-4e2e-998a-496d590e8a0d"
      },
      "source": [
        "response = requests.get(\"http://www.pollen.lu/index.php?qsPage=data&year=1992&week=0&qsLanguage=Fra\")\n",
        "response.status_code          # We expect 200 as a response status from the HTML GET request"
      ],
      "execution_count": 3,
      "outputs": [
        {
          "output_type": "execute_result",
          "data": {
            "text/plain": [
              "200"
            ]
          },
          "metadata": {},
          "execution_count": 3
        }
      ]
    },
    {
      "cell_type": "code",
      "metadata": {
        "colab": {
          "base_uri": "https://localhost:8080/"
        },
        "id": "W2HYwa8V6cph",
        "outputId": "409855db-06ac-4b6c-9f25-502711b18f52"
      },
      "source": [
        "soup = BeautifulSoup(response.text, 'html.parser')\n",
        "soup.title                    # We expect the following title: <title>Pollen</title>"
      ],
      "execution_count": 4,
      "outputs": [
        {
          "output_type": "execute_result",
          "data": {
            "text/plain": [
              "<title>Pollen</title>"
            ]
          },
          "metadata": {},
          "execution_count": 4
        }
      ]
    },
    {
      "cell_type": "code",
      "metadata": {
        "id": "PjSTxqXe600U"
      },
      "source": [
        "html_tables = soup.find_all('table')    # Storing html tables"
      ],
      "execution_count": 5,
      "outputs": []
    },
    {
      "cell_type": "markdown",
      "metadata": {
        "id": "5K2CnrHdQSTc"
      },
      "source": [
        "We can look in the tables and see that the pollen data is stored on the table number 5. \n",
        "<br>\n",
        "The table does not present the header in a standard way (i.e. in a \\<th> HTML tag) but rather as a sub-table inside the table's first row (first \\<tr> HTML tag in the result, see below). \n",
        "<br>\n",
        "We also already note that the data is split by weeks, with the url to weekly data stored in the \\<option> tags. "
      ]
    },
    {
      "cell_type": "code",
      "metadata": {
        "colab": {
          "base_uri": "https://localhost:8080/"
        },
        "id": "Q7Oj3ZDb9ee5",
        "outputId": "38024545-e8c9-4e97-9fe8-b0f730125867"
      },
      "source": [
        "pollen_table = html_tables[5]\n",
        "print(pollen_table)"
      ],
      "execution_count": 6,
      "outputs": [
        {
          "output_type": "stream",
          "name": "stdout",
          "text": [
            "<table width=\"100%\">\n",
            "<tr>\n",
            "<td width=\"5\"> </td>\n",
            "<td>\n",
            "<div class=\"content\">\n",
            "<h1>Données de l'année 1992</h1>\n",
            "<p>La saison pollinique est terminée et on va vous renseigner dès que les premiers pollens d’arbres sont dans l’air.\r\n",
            "(Actualisation: 01.10.2021)</p>\n",
            "<form action=\"index.php?qsPage=data&amp;year=1992&amp;week=1&amp;qsLanguage=Fra\" method=\"post\" name=\"week\">\n",
            "<p align=\"center\">\n",
            "Faites un choix:<br>\n",
            "<select name=\"cboWeek\" onchange=\"jumpMenu('parent',this,0)\">\n",
            "<option selected=\"\" value=\"index.php?qsPage=data&amp;year=1992&amp;week=0&amp;qsLanguage=Fra\">\n",
            "            du 1992-01-01 au 1992-01-04            </option>\n",
            "<option value=\"index.php?qsPage=data&amp;year=1992&amp;week=1&amp;qsLanguage=Fra\">\n",
            "            du 1992-01-05 au 1992-01-11            </option>\n",
            "<option value=\"index.php?qsPage=data&amp;year=1992&amp;week=2&amp;qsLanguage=Fra\">\n",
            "            du 1992-01-12 au 1992-01-18            </option>\n",
            "<option value=\"index.php?qsPage=data&amp;year=1992&amp;week=3&amp;qsLanguage=Fra\">\n",
            "            du 1992-01-19 au 1992-01-25            </option>\n",
            "<option value=\"index.php?qsPage=data&amp;year=1992&amp;week=4&amp;qsLanguage=Fra\">\n",
            "            du 1992-01-26 au 1992-02-01            </option>\n",
            "<option value=\"index.php?qsPage=data&amp;year=1992&amp;week=5&amp;qsLanguage=Fra\">\n",
            "            du 1992-02-02 au 1992-02-08            </option>\n",
            "<option value=\"index.php?qsPage=data&amp;year=1992&amp;week=6&amp;qsLanguage=Fra\">\n",
            "            du 1992-02-09 au 1992-02-15            </option>\n",
            "<option value=\"index.php?qsPage=data&amp;year=1992&amp;week=7&amp;qsLanguage=Fra\">\n",
            "            du 1992-02-16 au 1992-02-22            </option>\n",
            "<option value=\"index.php?qsPage=data&amp;year=1992&amp;week=8&amp;qsLanguage=Fra\">\n",
            "            du 1992-02-23 au 1992-02-29            </option>\n",
            "<option value=\"index.php?qsPage=data&amp;year=1992&amp;week=9&amp;qsLanguage=Fra\">\n",
            "            du 1992-03-01 au 1992-03-07            </option>\n",
            "<option value=\"index.php?qsPage=data&amp;year=1992&amp;week=10&amp;qsLanguage=Fra\">\n",
            "            du 1992-03-08 au 1992-03-14            </option>\n",
            "<option value=\"index.php?qsPage=data&amp;year=1992&amp;week=11&amp;qsLanguage=Fra\">\n",
            "            du 1992-03-15 au 1992-03-21            </option>\n",
            "<option value=\"index.php?qsPage=data&amp;year=1992&amp;week=12&amp;qsLanguage=Fra\">\n",
            "            du 1992-03-22 au 1992-03-28            </option>\n",
            "<option value=\"index.php?qsPage=data&amp;year=1992&amp;week=13&amp;qsLanguage=Fra\">\n",
            "            du 1992-03-29 au 1992-04-04            </option>\n",
            "<option value=\"index.php?qsPage=data&amp;year=1992&amp;week=14&amp;qsLanguage=Fra\">\n",
            "            du 1992-04-05 au 1992-04-11            </option>\n",
            "<option value=\"index.php?qsPage=data&amp;year=1992&amp;week=15&amp;qsLanguage=Fra\">\n",
            "            du 1992-04-12 au 1992-04-18            </option>\n",
            "<option value=\"index.php?qsPage=data&amp;year=1992&amp;week=16&amp;qsLanguage=Fra\">\n",
            "            du 1992-04-19 au 1992-04-25            </option>\n",
            "<option value=\"index.php?qsPage=data&amp;year=1992&amp;week=17&amp;qsLanguage=Fra\">\n",
            "            du 1992-04-26 au 1992-05-02            </option>\n",
            "<option value=\"index.php?qsPage=data&amp;year=1992&amp;week=18&amp;qsLanguage=Fra\">\n",
            "            du 1992-05-03 au 1992-05-09            </option>\n",
            "<option value=\"index.php?qsPage=data&amp;year=1992&amp;week=19&amp;qsLanguage=Fra\">\n",
            "            du 1992-05-10 au 1992-05-16            </option>\n",
            "<option value=\"index.php?qsPage=data&amp;year=1992&amp;week=20&amp;qsLanguage=Fra\">\n",
            "            du 1992-05-17 au 1992-05-23            </option>\n",
            "<option value=\"index.php?qsPage=data&amp;year=1992&amp;week=21&amp;qsLanguage=Fra\">\n",
            "            du 1992-05-24 au 1992-05-30            </option>\n",
            "<option value=\"index.php?qsPage=data&amp;year=1992&amp;week=22&amp;qsLanguage=Fra\">\n",
            "            du 1992-05-31 au 1992-06-06            </option>\n",
            "<option value=\"index.php?qsPage=data&amp;year=1992&amp;week=23&amp;qsLanguage=Fra\">\n",
            "            du 1992-06-07 au 1992-06-13            </option>\n",
            "<option value=\"index.php?qsPage=data&amp;year=1992&amp;week=24&amp;qsLanguage=Fra\">\n",
            "            du 1992-06-14 au 1992-06-20            </option>\n",
            "<option value=\"index.php?qsPage=data&amp;year=1992&amp;week=25&amp;qsLanguage=Fra\">\n",
            "            du 1992-06-21 au 1992-06-27            </option>\n",
            "<option value=\"index.php?qsPage=data&amp;year=1992&amp;week=26&amp;qsLanguage=Fra\">\n",
            "            du 1992-06-28 au 1992-07-04            </option>\n",
            "<option value=\"index.php?qsPage=data&amp;year=1992&amp;week=27&amp;qsLanguage=Fra\">\n",
            "            du 1992-07-05 au 1992-07-11            </option>\n",
            "<option value=\"index.php?qsPage=data&amp;year=1992&amp;week=28&amp;qsLanguage=Fra\">\n",
            "            du 1992-07-12 au 1992-07-18            </option>\n",
            "<option value=\"index.php?qsPage=data&amp;year=1992&amp;week=29&amp;qsLanguage=Fra\">\n",
            "            du 1992-07-19 au 1992-07-25            </option>\n",
            "<option value=\"index.php?qsPage=data&amp;year=1992&amp;week=30&amp;qsLanguage=Fra\">\n",
            "            du 1992-07-26 au 1992-08-01            </option>\n",
            "<option value=\"index.php?qsPage=data&amp;year=1992&amp;week=31&amp;qsLanguage=Fra\">\n",
            "            du 1992-08-02 au 1992-08-08            </option>\n",
            "<option value=\"index.php?qsPage=data&amp;year=1992&amp;week=32&amp;qsLanguage=Fra\">\n",
            "            du 1992-08-09 au 1992-08-15            </option>\n",
            "<option value=\"index.php?qsPage=data&amp;year=1992&amp;week=33&amp;qsLanguage=Fra\">\n",
            "            du 1992-08-16 au 1992-08-22            </option>\n",
            "<option value=\"index.php?qsPage=data&amp;year=1992&amp;week=34&amp;qsLanguage=Fra\">\n",
            "            du 1992-08-23 au 1992-08-29            </option>\n",
            "<option value=\"index.php?qsPage=data&amp;year=1992&amp;week=35&amp;qsLanguage=Fra\">\n",
            "            du 1992-08-30 au 1992-09-05            </option>\n",
            "<option value=\"index.php?qsPage=data&amp;year=1992&amp;week=36&amp;qsLanguage=Fra\">\n",
            "            du 1992-09-06 au 1992-09-12            </option>\n",
            "<option value=\"index.php?qsPage=data&amp;year=1992&amp;week=37&amp;qsLanguage=Fra\">\n",
            "            du 1992-09-13 au 1992-09-19            </option>\n",
            "<option value=\"index.php?qsPage=data&amp;year=1992&amp;week=38&amp;qsLanguage=Fra\">\n",
            "            du 1992-09-20 au 1992-09-26            </option>\n",
            "<option value=\"index.php?qsPage=data&amp;year=1992&amp;week=39&amp;qsLanguage=Fra\">\n",
            "            du 1992-09-27 au 1992-09-30            </option>\n",
            "</select>\n",
            "</br></p>\n",
            "</form>\n",
            "<table align=\"center\" width=\"100%\">\n",
            "<tr>\n",
            "<!-- 2017/06/20 -- modif pour voir les 4 langues simultanement a la place de Français (Latin) -->\n",
            "<!--      <td><b>nom français (nom latin)</b></td> -->\n",
            "<td><b>Français</b></td><td><b>Latin</b></td><td><b>Deutsch</b></td><td><b>Lëtzebuergesch</b></td>\n",
            "<td align=\"center\">1992-01-01</td><td align=\"center\">1992-01-02</td><td align=\"center\">1992-01-03</td><td align=\"center\">1992-01-04</td></tr></table></div></td></tr><tr bgcolor=\"#EEEEEE\"><td>Ambroisie</td><td>Ambrosia</td><td>Traubenkraut</td><td>Ambroisie</td><td align=\"center\"><font color=\"orange\">0</font></td><td align=\"center\"><font color=\"orange\">0</font></td><td align=\"center\"><font color=\"orange\">0</font></td><td align=\"center\"><font color=\"orange\">0</font></td></tr><tr bgcolor=\"#FFFFFF\"><td>Armoise</td><td>Artemisia</td><td>Beifuss</td><td>Alzem</td><td align=\"center\"><font color=\"green\">0</font></td><td align=\"center\"><font color=\"green\">0</font></td><td align=\"center\"><font color=\"green\">0</font></td><td align=\"center\"><font color=\"green\">0</font></td></tr><tr bgcolor=\"#EEEEEE\"><td>Asteracées</td><td>Asteraceae</td><td>Korbblütler</td><td>Asteracées</td><td align=\"center\"><font color=\"black\">0</font></td><td align=\"center\"><font color=\"black\">0</font></td><td align=\"center\"><font color=\"black\">0</font></td><td align=\"center\"><font color=\"black\">0</font></td></tr><tr bgcolor=\"#FFFFFF\"><td>Aulne</td><td>Alnus</td><td>Erle</td><td>Alënter</td><td align=\"center\"><font color=\"green\">0</font></td><td align=\"center\"><font color=\"green\">0</font></td><td align=\"center\"><font color=\"green\">0</font></td><td align=\"center\"><font color=\"green\">0</font></td></tr><tr bgcolor=\"#EEEEEE\"><td>Bouleau</td><td>Betula</td><td>Birke</td><td>Bierk</td><td align=\"center\"><font color=\"green\">0</font></td><td align=\"center\"><font color=\"green\">0</font></td><td align=\"center\"><font color=\"green\">0</font></td><td align=\"center\"><font color=\"green\">0</font></td></tr><tr bgcolor=\"#FFFFFF\"><td>Bruyère</td><td>Ericaceae</td><td>Erika / Heide</td><td>Heed</td><td align=\"center\"><font color=\"black\">0</font></td><td align=\"center\"><font color=\"black\">0</font></td><td align=\"center\"><font color=\"black\">0</font></td><td align=\"center\"><font color=\"black\">0</font></td></tr><tr bgcolor=\"#EEEEEE\"><td>Charme</td><td>Carpinus</td><td>Hainbuche / Weissbuche</td><td>Wäisbich</td><td align=\"center\"><font color=\"black\">0</font></td><td align=\"center\"><font color=\"black\">0</font></td><td align=\"center\"><font color=\"black\">0</font></td><td align=\"center\"><font color=\"black\">0</font></td></tr><tr bgcolor=\"#FFFFFF\"><td>Châtaignier</td><td>Castanea</td><td>Edelkastanie / Kastanienbaum</td><td>Käschtebam</td><td align=\"center\"><font color=\"black\">0</font></td><td align=\"center\"><font color=\"black\">0</font></td><td align=\"center\"><font color=\"black\">0</font></td><td align=\"center\"><font color=\"black\">0</font></td></tr><tr bgcolor=\"#EEEEEE\"><td>Chêne</td><td>Quercus</td><td>Eiche</td><td>Eech</td><td align=\"center\"><font color=\"green\">0</font></td><td align=\"center\"><font color=\"green\">0</font></td><td align=\"center\"><font color=\"green\">0</font></td><td align=\"center\"><font color=\"green\">0</font></td></tr><tr bgcolor=\"#FFFFFF\"><td>Chénopode</td><td>Chenopodium</td><td>Gänsefuss</td><td>Mëll / Miel</td><td align=\"center\"><font color=\"green\">0</font></td><td align=\"center\"><font color=\"green\">0</font></td><td align=\"center\"><font color=\"green\">0</font></td><td align=\"center\"><font color=\"green\">0</font></td></tr><tr bgcolor=\"#EEEEEE\"><td>Cupressacées + IF</td><td>Cupressaceae</td><td>Zypressengewächse</td><td>Zypressegewächs</td><td align=\"center\"><font color=\"black\">0</font></td><td align=\"center\"><font color=\"black\">0</font></td><td align=\"center\"><font color=\"black\">0</font></td><td align=\"center\"><font color=\"black\">0</font></td></tr><tr bgcolor=\"#FFFFFF\"><td>Érable</td><td>Acer</td><td>Ahorn</td><td>Aasschtert / Aacheren</td><td align=\"center\"><font color=\"black\">0</font></td><td align=\"center\"><font color=\"black\">0</font></td><td align=\"center\"><font color=\"black\">0</font></td><td align=\"center\"><font color=\"black\">0</font></td></tr><tr bgcolor=\"#EEEEEE\"><td>Frêne</td><td>Fraxinus</td><td>Esche</td><td>Esch</td><td align=\"center\"><font color=\"green\">0</font></td><td align=\"center\"><font color=\"green\">0</font></td><td align=\"center\"><font color=\"green\">0</font></td><td align=\"center\"><font color=\"green\">0</font></td></tr><tr bgcolor=\"#FFFFFF\"><td>Graminées</td><td>Gramineae</td><td>Gräser</td><td>Grieser</td><td align=\"center\"><font color=\"green\">0</font></td><td align=\"center\"><font color=\"green\">0</font></td><td align=\"center\"><font color=\"green\">0</font></td><td align=\"center\"><font color=\"green\">0</font></td></tr><tr bgcolor=\"#EEEEEE\"><td>Hêtre</td><td>Fagus</td><td>Buche</td><td>Bich</td><td align=\"center\"><font color=\"black\">0</font></td><td align=\"center\"><font color=\"black\">0</font></td><td align=\"center\"><font color=\"black\">0</font></td><td align=\"center\"><font color=\"black\">0</font></td></tr><tr bgcolor=\"#FFFFFF\"><td>Jonciacées</td><td>Juncaceae</td><td>Binsengewächse</td><td>Jénkegewächs</td><td align=\"center\"><font color=\"black\">0</font></td><td align=\"center\"><font color=\"black\">0</font></td><td align=\"center\"><font color=\"black\">0</font></td><td align=\"center\"><font color=\"black\">0</font></td></tr><tr bgcolor=\"#EEEEEE\"><td>Marronnier</td><td>Aesculus</td><td>Rosskastanie</td><td>wëlle Käschtebam</td><td align=\"center\"><font color=\"black\">0</font></td><td align=\"center\"><font color=\"black\">0</font></td><td align=\"center\"><font color=\"black\">0</font></td><td align=\"center\"><font color=\"black\">0</font></td></tr><tr bgcolor=\"#FFFFFF\"><td>Mélèze</td><td>Larix</td><td>Lärche</td><td>Mëläs / Wäiraachsdänn</td><td align=\"center\"><font color=\"black\">0</font></td><td align=\"center\"><font color=\"black\">0</font></td><td align=\"center\"><font color=\"black\">0</font></td><td align=\"center\"><font color=\"black\">0</font></td></tr><tr bgcolor=\"#EEEEEE\"><td>Noisetier</td><td>Corylus</td><td>Haselnussstrauch</td><td>Hieselter</td><td align=\"center\"><font color=\"green\">0</font></td><td align=\"center\"><font color=\"green\">0</font></td><td align=\"center\"><font color=\"green\">0</font></td><td align=\"center\"><font color=\"green\">0</font></td></tr><tr bgcolor=\"#FFFFFF\"><td>Noyer</td><td>Juglans</td><td>Walnussbaum</td><td>Nëssert</td><td align=\"center\"><font color=\"black\">0</font></td><td align=\"center\"><font color=\"black\">0</font></td><td align=\"center\"><font color=\"black\">0</font></td><td align=\"center\"><font color=\"black\">0</font></td></tr><tr bgcolor=\"#EEEEEE\"><td>Ombellifères</td><td>Umbellifereae</td><td>Doldengewächse</td><td>Doldegewächs</td><td align=\"center\"><font color=\"black\">0</font></td><td align=\"center\"><font color=\"black\">0</font></td><td align=\"center\"><font color=\"black\">0</font></td><td align=\"center\"><font color=\"black\">0</font></td></tr><tr bgcolor=\"#FFFFFF\"><td>Orme</td><td>Ulmus</td><td>Ulme</td><td>Routholz</td><td align=\"center\"><font color=\"black\">0</font></td><td align=\"center\"><font color=\"black\">0</font></td><td align=\"center\"><font color=\"black\">0</font></td><td align=\"center\"><font color=\"black\">0</font></td></tr><tr bgcolor=\"#EEEEEE\"><td>Ortie</td><td>Urtica</td><td>Brennnessel</td><td>Brennnessel</td><td align=\"center\"><font color=\"black\">0</font></td><td align=\"center\"><font color=\"black\">0</font></td><td align=\"center\"><font color=\"black\">0</font></td><td align=\"center\"><font color=\"black\">0</font></td></tr><tr bgcolor=\"#FFFFFF\"><td>Oseille</td><td>Rumex</td><td>Ampfer</td><td>Sauerampel / Botterblat</td><td align=\"center\"><font color=\"black\">0</font></td><td align=\"center\"><font color=\"black\">0</font></td><td align=\"center\"><font color=\"black\">0</font></td><td align=\"center\"><font color=\"black\">0</font></td></tr><tr bgcolor=\"#EEEEEE\"><td>Peuplier</td><td>Populus</td><td>Pappel</td><td>Pëppel</td><td align=\"center\"><font color=\"black\">0</font></td><td align=\"center\"><font color=\"black\">0</font></td><td align=\"center\"><font color=\"black\">0</font></td><td align=\"center\"><font color=\"black\">0</font></td></tr><tr bgcolor=\"#FFFFFF\"><td>Pinacées</td><td>Pinaceae</td><td>Kieferngewächse</td><td>Kifergewächs / wëll Dänn</td><td align=\"center\"><font color=\"black\">0</font></td><td align=\"center\"><font color=\"black\">0</font></td><td align=\"center\"><font color=\"black\">0</font></td><td align=\"center\"><font color=\"black\">0</font></td></tr><tr bgcolor=\"#EEEEEE\"><td>Plantain</td><td>Plantago</td><td>Wegerich</td><td>Weeblat / Vullesom</td><td align=\"center\"><font color=\"green\">0</font></td><td align=\"center\"><font color=\"green\">0</font></td><td align=\"center\"><font color=\"green\">0</font></td><td align=\"center\"><font color=\"green\">0</font></td></tr><tr bgcolor=\"#FFFFFF\"><td>Platane</td><td>Platanus</td><td>Platane</td><td>Platan</td><td align=\"center\"><font color=\"black\">0</font></td><td align=\"center\"><font color=\"black\">0</font></td><td align=\"center\"><font color=\"black\">0</font></td><td align=\"center\"><font color=\"black\">0</font></td></tr><tr bgcolor=\"#EEEEEE\"><td>Saule</td><td>Salix</td><td>Weide</td><td>Weid</td><td align=\"center\"><font color=\"black\">0</font></td><td align=\"center\"><font color=\"black\">0</font></td><td align=\"center\"><font color=\"black\">0</font></td><td align=\"center\"><font color=\"black\">0</font></td></tr><tr bgcolor=\"#FFFFFF\"><td>Souchets</td><td>Cyperaceae</td><td>Sauergrasgewächse/Zyperngräser</td><td>Zyperngrieser</td><td align=\"center\"><font color=\"black\">0</font></td><td align=\"center\"><font color=\"black\">0</font></td><td align=\"center\"><font color=\"black\">0</font></td><td align=\"center\"><font color=\"black\">0</font></td></tr><tr bgcolor=\"#EEEEEE\"><td>Spirée</td><td>Filipendula</td><td>Spierstrauch</td><td>Schéifernoss</td><td align=\"center\"><font color=\"black\">0</font></td><td align=\"center\"><font color=\"black\">0</font></td><td align=\"center\"><font color=\"black\">0</font></td><td align=\"center\"><font color=\"black\">0</font></td></tr><tr bgcolor=\"#FFFFFF\"><td>Sureau</td><td>Sambucus</td><td>Holunder</td><td>Hielenter / Hielenner</td><td align=\"center\"><font color=\"black\">0</font></td><td align=\"center\"><font color=\"black\">0</font></td><td align=\"center\"><font color=\"black\">0</font></td><td align=\"center\"><font color=\"black\">0</font></td></tr><tr bgcolor=\"#EEEEEE\"><td>Tilleul</td><td>Tilia</td><td>Linde</td><td>Lann</td><td align=\"center\"><font color=\"black\">0</font></td><td align=\"center\"><font color=\"black\">0</font></td><td align=\"center\"><font color=\"black\">0</font></td><td align=\"center\"><font color=\"black\">0</font></td></tr></table>\n"
          ]
        }
      ]
    },
    {
      "cell_type": "markdown",
      "metadata": {
        "id": "LNNhrfdfIazB"
      },
      "source": [
        "While we are here we extract the last actualization date from the free text of the page."
      ]
    },
    {
      "cell_type": "code",
      "metadata": {
        "id": "b-sCefnqZ-w0"
      },
      "source": [
        "from datetime import datetime"
      ],
      "execution_count": 7,
      "outputs": []
    },
    {
      "cell_type": "code",
      "metadata": {
        "id": "6dqF40G3IlTK",
        "colab": {
          "base_uri": "https://localhost:8080/"
        },
        "outputId": "ef3c75c9-ed96-4167-a3b0-889fbc5dd81b"
      },
      "source": [
        "date_start = pollen_table.text.find('Actualisation: ')+15                             # index where the date starts in the free text of the page\n",
        "actualization_date_str = pollen_table.text[date_start:date_start+10]                  # actualization date as a string\n",
        "# actualization_date_str = '01.10.2021'                                               # uncomment to use 1st of October 2021 by default\n",
        "\n",
        "actualization_date = datetime.strptime(actualization_date_str, '%d.%m.%Y')            # converting to date format\n",
        "actualization_date"
      ],
      "execution_count": 8,
      "outputs": [
        {
          "output_type": "execute_result",
          "data": {
            "text/plain": [
              "datetime.datetime(2021, 10, 1, 0, 0)"
            ]
          },
          "metadata": {},
          "execution_count": 8
        }
      ]
    },
    {
      "cell_type": "markdown",
      "metadata": {
        "id": "sv6wIIKu5lgK"
      },
      "source": [
        "Since we will apply the same procedure to scrape data for all relevant weeks, we define the following function:"
      ]
    },
    {
      "cell_type": "code",
      "metadata": {
        "id": "TXi5UC2P9j6l"
      },
      "source": [
        "def pollen_df_from_table(pollen_table):                   # takes the HTML pollen tables as input for a given week, and outputs the formatted dataframe \n",
        "    dfs = pd.read_html(str(pollen_table))                 # the HTML pollen table contains itself 2 tables: the one with pollen data with index 0, and the header with index 1\n",
        "    df = dfs[0].iloc[1:, :].copy()                        # df now stores the pollen data, ignoring the first row containing free text\n",
        "    df.columns = dfs[1].values.tolist()[0]                # adding the header to df\n",
        "    df = df.transpose()                                   # transposing to get the species as columns and dates as row\n",
        "    df.columns = df.iloc[1:2, :].values.tolist()          # defining the header as the species name, in Latin and dropping the other languages (to avoid multi-indexing)\n",
        "    df = df.drop(['Français', 'Latin', 'Deutsch', 'Lëtzebuergesch'])\n",
        "    df.index.name = 'Date'\n",
        "    df.index = pd.to_datetime(df.index)                   # making sure the index is in date type\n",
        "    df = df.astype(float)                                 # making sure the content is in float type\n",
        "    return df"
      ],
      "execution_count": 9,
      "outputs": []
    },
    {
      "cell_type": "code",
      "metadata": {
        "colab": {
          "base_uri": "https://localhost:8080/",
          "height": 226
        },
        "id": "Z9i-18gbITep",
        "outputId": "74bde3f6-cf47-40eb-8990-f9b3556e0bb8"
      },
      "source": [
        "pollen_df_from_table(pollen_table)"
      ],
      "execution_count": 10,
      "outputs": [
        {
          "output_type": "execute_result",
          "data": {
            "text/html": [
              "<div>\n",
              "<style scoped>\n",
              "    .dataframe tbody tr th:only-of-type {\n",
              "        vertical-align: middle;\n",
              "    }\n",
              "\n",
              "    .dataframe tbody tr th {\n",
              "        vertical-align: top;\n",
              "    }\n",
              "\n",
              "    .dataframe thead tr th {\n",
              "        text-align: left;\n",
              "    }\n",
              "\n",
              "    .dataframe thead tr:last-of-type th {\n",
              "        text-align: right;\n",
              "    }\n",
              "</style>\n",
              "<table border=\"1\" class=\"dataframe\">\n",
              "  <thead>\n",
              "    <tr>\n",
              "      <th></th>\n",
              "      <th>Ambrosia</th>\n",
              "      <th>Artemisia</th>\n",
              "      <th>Asteraceae</th>\n",
              "      <th>Alnus</th>\n",
              "      <th>Betula</th>\n",
              "      <th>Ericaceae</th>\n",
              "      <th>Carpinus</th>\n",
              "      <th>Castanea</th>\n",
              "      <th>Quercus</th>\n",
              "      <th>Chenopodium</th>\n",
              "      <th>Cupressaceae</th>\n",
              "      <th>Acer</th>\n",
              "      <th>Fraxinus</th>\n",
              "      <th>Gramineae</th>\n",
              "      <th>Fagus</th>\n",
              "      <th>Juncaceae</th>\n",
              "      <th>Aesculus</th>\n",
              "      <th>Larix</th>\n",
              "      <th>Corylus</th>\n",
              "      <th>Juglans</th>\n",
              "      <th>Umbellifereae</th>\n",
              "      <th>Ulmus</th>\n",
              "      <th>Urtica</th>\n",
              "      <th>Rumex</th>\n",
              "      <th>Populus</th>\n",
              "      <th>Pinaceae</th>\n",
              "      <th>Plantago</th>\n",
              "      <th>Platanus</th>\n",
              "      <th>Salix</th>\n",
              "      <th>Cyperaceae</th>\n",
              "      <th>Filipendula</th>\n",
              "      <th>Sambucus</th>\n",
              "      <th>Tilia</th>\n",
              "    </tr>\n",
              "    <tr>\n",
              "      <th>Date</th>\n",
              "      <th></th>\n",
              "      <th></th>\n",
              "      <th></th>\n",
              "      <th></th>\n",
              "      <th></th>\n",
              "      <th></th>\n",
              "      <th></th>\n",
              "      <th></th>\n",
              "      <th></th>\n",
              "      <th></th>\n",
              "      <th></th>\n",
              "      <th></th>\n",
              "      <th></th>\n",
              "      <th></th>\n",
              "      <th></th>\n",
              "      <th></th>\n",
              "      <th></th>\n",
              "      <th></th>\n",
              "      <th></th>\n",
              "      <th></th>\n",
              "      <th></th>\n",
              "      <th></th>\n",
              "      <th></th>\n",
              "      <th></th>\n",
              "      <th></th>\n",
              "      <th></th>\n",
              "      <th></th>\n",
              "      <th></th>\n",
              "      <th></th>\n",
              "      <th></th>\n",
              "      <th></th>\n",
              "      <th></th>\n",
              "      <th></th>\n",
              "    </tr>\n",
              "  </thead>\n",
              "  <tbody>\n",
              "    <tr>\n",
              "      <th>1992-01-01</th>\n",
              "      <td>0.0</td>\n",
              "      <td>0.0</td>\n",
              "      <td>0.0</td>\n",
              "      <td>0.0</td>\n",
              "      <td>0.0</td>\n",
              "      <td>0.0</td>\n",
              "      <td>0.0</td>\n",
              "      <td>0.0</td>\n",
              "      <td>0.0</td>\n",
              "      <td>0.0</td>\n",
              "      <td>0.0</td>\n",
              "      <td>0.0</td>\n",
              "      <td>0.0</td>\n",
              "      <td>0.0</td>\n",
              "      <td>0.0</td>\n",
              "      <td>0.0</td>\n",
              "      <td>0.0</td>\n",
              "      <td>0.0</td>\n",
              "      <td>0.0</td>\n",
              "      <td>0.0</td>\n",
              "      <td>0.0</td>\n",
              "      <td>0.0</td>\n",
              "      <td>0.0</td>\n",
              "      <td>0.0</td>\n",
              "      <td>0.0</td>\n",
              "      <td>0.0</td>\n",
              "      <td>0.0</td>\n",
              "      <td>0.0</td>\n",
              "      <td>0.0</td>\n",
              "      <td>0.0</td>\n",
              "      <td>0.0</td>\n",
              "      <td>0.0</td>\n",
              "      <td>0.0</td>\n",
              "    </tr>\n",
              "    <tr>\n",
              "      <th>1992-01-02</th>\n",
              "      <td>0.0</td>\n",
              "      <td>0.0</td>\n",
              "      <td>0.0</td>\n",
              "      <td>0.0</td>\n",
              "      <td>0.0</td>\n",
              "      <td>0.0</td>\n",
              "      <td>0.0</td>\n",
              "      <td>0.0</td>\n",
              "      <td>0.0</td>\n",
              "      <td>0.0</td>\n",
              "      <td>0.0</td>\n",
              "      <td>0.0</td>\n",
              "      <td>0.0</td>\n",
              "      <td>0.0</td>\n",
              "      <td>0.0</td>\n",
              "      <td>0.0</td>\n",
              "      <td>0.0</td>\n",
              "      <td>0.0</td>\n",
              "      <td>0.0</td>\n",
              "      <td>0.0</td>\n",
              "      <td>0.0</td>\n",
              "      <td>0.0</td>\n",
              "      <td>0.0</td>\n",
              "      <td>0.0</td>\n",
              "      <td>0.0</td>\n",
              "      <td>0.0</td>\n",
              "      <td>0.0</td>\n",
              "      <td>0.0</td>\n",
              "      <td>0.0</td>\n",
              "      <td>0.0</td>\n",
              "      <td>0.0</td>\n",
              "      <td>0.0</td>\n",
              "      <td>0.0</td>\n",
              "    </tr>\n",
              "    <tr>\n",
              "      <th>1992-01-03</th>\n",
              "      <td>0.0</td>\n",
              "      <td>0.0</td>\n",
              "      <td>0.0</td>\n",
              "      <td>0.0</td>\n",
              "      <td>0.0</td>\n",
              "      <td>0.0</td>\n",
              "      <td>0.0</td>\n",
              "      <td>0.0</td>\n",
              "      <td>0.0</td>\n",
              "      <td>0.0</td>\n",
              "      <td>0.0</td>\n",
              "      <td>0.0</td>\n",
              "      <td>0.0</td>\n",
              "      <td>0.0</td>\n",
              "      <td>0.0</td>\n",
              "      <td>0.0</td>\n",
              "      <td>0.0</td>\n",
              "      <td>0.0</td>\n",
              "      <td>0.0</td>\n",
              "      <td>0.0</td>\n",
              "      <td>0.0</td>\n",
              "      <td>0.0</td>\n",
              "      <td>0.0</td>\n",
              "      <td>0.0</td>\n",
              "      <td>0.0</td>\n",
              "      <td>0.0</td>\n",
              "      <td>0.0</td>\n",
              "      <td>0.0</td>\n",
              "      <td>0.0</td>\n",
              "      <td>0.0</td>\n",
              "      <td>0.0</td>\n",
              "      <td>0.0</td>\n",
              "      <td>0.0</td>\n",
              "    </tr>\n",
              "    <tr>\n",
              "      <th>1992-01-04</th>\n",
              "      <td>0.0</td>\n",
              "      <td>0.0</td>\n",
              "      <td>0.0</td>\n",
              "      <td>0.0</td>\n",
              "      <td>0.0</td>\n",
              "      <td>0.0</td>\n",
              "      <td>0.0</td>\n",
              "      <td>0.0</td>\n",
              "      <td>0.0</td>\n",
              "      <td>0.0</td>\n",
              "      <td>0.0</td>\n",
              "      <td>0.0</td>\n",
              "      <td>0.0</td>\n",
              "      <td>0.0</td>\n",
              "      <td>0.0</td>\n",
              "      <td>0.0</td>\n",
              "      <td>0.0</td>\n",
              "      <td>0.0</td>\n",
              "      <td>0.0</td>\n",
              "      <td>0.0</td>\n",
              "      <td>0.0</td>\n",
              "      <td>0.0</td>\n",
              "      <td>0.0</td>\n",
              "      <td>0.0</td>\n",
              "      <td>0.0</td>\n",
              "      <td>0.0</td>\n",
              "      <td>0.0</td>\n",
              "      <td>0.0</td>\n",
              "      <td>0.0</td>\n",
              "      <td>0.0</td>\n",
              "      <td>0.0</td>\n",
              "      <td>0.0</td>\n",
              "      <td>0.0</td>\n",
              "    </tr>\n",
              "  </tbody>\n",
              "</table>\n",
              "</div>"
            ],
            "text/plain": [
              "           Ambrosia Artemisia Asteraceae  ... Filipendula Sambucus Tilia\n",
              "Date                                      ...                           \n",
              "1992-01-01      0.0       0.0        0.0  ...         0.0      0.0   0.0\n",
              "1992-01-02      0.0       0.0        0.0  ...         0.0      0.0   0.0\n",
              "1992-01-03      0.0       0.0        0.0  ...         0.0      0.0   0.0\n",
              "1992-01-04      0.0       0.0        0.0  ...         0.0      0.0   0.0\n",
              "\n",
              "[4 rows x 33 columns]"
            ]
          },
          "metadata": {},
          "execution_count": 10
        }
      ]
    },
    {
      "cell_type": "markdown",
      "metadata": {
        "id": "8N-CJ-n1SE3F"
      },
      "source": [
        "### Looping for each year and week"
      ]
    },
    {
      "cell_type": "markdown",
      "metadata": {
        "id": "HtCBF9uVGz1U"
      },
      "source": [
        "We start by storing all the weekly URLs in a list. \n",
        "<br> \n",
        "The week numbering is not very consistent (the first week of the year is sometimes 0 or 1, the last week is sometimes 39 or 51, there are erroneous URLs for year 2001, etc)."
      ]
    },
    {
      "cell_type": "code",
      "metadata": {
        "id": "G_dRBbDJFIPB"
      },
      "source": [
        "weekly_url = []\n",
        "\n",
        "for year in range(1992, actualization_date.year +1):\n",
        "\n",
        "    url_year = 'http://www.pollen.lu/index.php?qsPage=data&year='+str(year)+'&week=0&qsLanguage=Fra'  # this page contains the list of URLs for weekly data\n",
        "    response = requests.get(url_year)\n",
        "    soup = BeautifulSoup(response.text, 'html.parser')\n",
        "    html_tables = soup.find_all('table')\n",
        "\n",
        "    link_table = html_tables[5]                                                                       # in table 5, the 'option' HTML tags contain the URLs for weekly data\n",
        "    for option in link_table.find_all('option'):\n",
        "        link = option['value']\n",
        "        url_year_week = 'http://www.pollen.lu/'+link\n",
        "        weekly_url.append(url_year_week)\n"
      ],
      "execution_count": 11,
      "outputs": []
    },
    {
      "cell_type": "code",
      "metadata": {
        "id": "M5ZPa5AOGHa2"
      },
      "source": [
        "# Uncomment below to see the url list \n",
        "# weekly_url"
      ],
      "execution_count": 12,
      "outputs": []
    },
    {
      "cell_type": "markdown",
      "metadata": {
        "id": "z5fHpHLQLUQZ"
      },
      "source": [
        "We note that for year 2001, weeks 22 through 25, the data doesn't exist, which brings trouble later. We thus remove these URLs."
      ]
    },
    {
      "cell_type": "code",
      "metadata": {
        "id": "8X6oDwBLLudZ"
      },
      "source": [
        "weekly_url.remove('http://www.pollen.lu/index.php?qsPage=data&year=2001&week=&qsLanguage=Fra')    # removing url for year 2001, week 22\n",
        "weekly_url.remove('http://www.pollen.lu/index.php?qsPage=data&year=2001&week=&qsLanguage=Fra')    # removing url for year 2001, week 23\n",
        "weekly_url.remove('http://www.pollen.lu/index.php?qsPage=data&year=2001&week=&qsLanguage=Fra')    # removing url for year 2001, week 24\n",
        "weekly_url.remove('http://www.pollen.lu/index.php?qsPage=data&year=2001&week=&qsLanguage=Fra')    # removing url for year 2001, week 25\n"
      ],
      "execution_count": 13,
      "outputs": []
    },
    {
      "cell_type": "markdown",
      "metadata": {
        "id": "Ui_KmcX2rUkO"
      },
      "source": [
        "We now fetch the weekly data from each of the URLs. Given that there are around 1000 URLs, the process may take a few minutes, which is acceptable for our purpose."
      ]
    },
    {
      "cell_type": "code",
      "metadata": {
        "id": "Nzgvrema43ft"
      },
      "source": [
        "pollen_dfs = []                                                 # this will be a list of small dataframes (for each week) that we concatenate at the end of the loop\n",
        "\n",
        "for url_weekly_data in weekly_url:\n",
        "        response = requests.get(url_weekly_data)\n",
        "        soup = BeautifulSoup(response.text, 'html.parser')\n",
        "        html_tables = soup.find_all('table')\n",
        "        pollen_table = html_tables[5]                           # as above we see that the weekly pollen data is in table 5\n",
        "        pollen_df = pollen_df_from_table(pollen_table)          # formatting the weekly pollen data in a dataframe using the predefined function pollen_df_from_table\n",
        "        pollen_dfs.append(pollen_df)                            # adding the weekly pollen dataframe to the list \n",
        "\n",
        "pollen_data = pd.concat(pollen_dfs, ignore_index=False)         # concatenating all the weekly pollen dataframes into a single result dataframe"
      ],
      "execution_count": 14,
      "outputs": []
    },
    {
      "cell_type": "markdown",
      "metadata": {
        "id": "IwLiZBNekf15"
      },
      "source": [
        "## Acquiring weather data from data.public.lu and merging"
      ]
    },
    {
      "cell_type": "markdown",
      "metadata": {
        "id": "mfT4Q9usXoEs"
      },
      "source": [
        "We first collect the weather data from data.public.lu"
      ]
    },
    {
      "cell_type": "code",
      "metadata": {
        "id": "Y8G6OWXBkmJ2"
      },
      "source": [
        "weather_data = pd.read_csv('https://data.public.lu/en/datasets/r/a67bd8c0-b036-4761-b161-bdab272302e5', encoding='latin', index_col=0, parse_dates=True, dayfirst=True)\n",
        "weather_data.columns = ['High Temperature','Low Temperature', 'Precipitation']\n",
        "weather_data.index.name = 'Date'"
      ],
      "execution_count": 15,
      "outputs": []
    },
    {
      "cell_type": "code",
      "metadata": {
        "colab": {
          "base_uri": "https://localhost:8080/",
          "height": 455
        },
        "id": "DD89bQdqoYZi",
        "outputId": "97592ad6-e66d-4e53-cdb1-fb5a1cc72078"
      },
      "source": [
        "weather_data"
      ],
      "execution_count": 16,
      "outputs": [
        {
          "output_type": "execute_result",
          "data": {
            "text/html": [
              "<div>\n",
              "<style scoped>\n",
              "    .dataframe tbody tr th:only-of-type {\n",
              "        vertical-align: middle;\n",
              "    }\n",
              "\n",
              "    .dataframe tbody tr th {\n",
              "        vertical-align: top;\n",
              "    }\n",
              "\n",
              "    .dataframe thead th {\n",
              "        text-align: right;\n",
              "    }\n",
              "</style>\n",
              "<table border=\"1\" class=\"dataframe\">\n",
              "  <thead>\n",
              "    <tr style=\"text-align: right;\">\n",
              "      <th></th>\n",
              "      <th>High Temperature</th>\n",
              "      <th>Low Temperature</th>\n",
              "      <th>Precipitation</th>\n",
              "    </tr>\n",
              "    <tr>\n",
              "      <th>Date</th>\n",
              "      <th></th>\n",
              "      <th></th>\n",
              "      <th></th>\n",
              "    </tr>\n",
              "  </thead>\n",
              "  <tbody>\n",
              "    <tr>\n",
              "      <th>1947-01-01</th>\n",
              "      <td>0.7</td>\n",
              "      <td>-0.8</td>\n",
              "      <td>0.0</td>\n",
              "    </tr>\n",
              "    <tr>\n",
              "      <th>1947-01-02</th>\n",
              "      <td>0.0</td>\n",
              "      <td>-1.5</td>\n",
              "      <td>0.0</td>\n",
              "    </tr>\n",
              "    <tr>\n",
              "      <th>1947-01-03</th>\n",
              "      <td>1.6</td>\n",
              "      <td>-2.8</td>\n",
              "      <td>0.0</td>\n",
              "    </tr>\n",
              "    <tr>\n",
              "      <th>1947-01-04</th>\n",
              "      <td>-1.6</td>\n",
              "      <td>-9.2</td>\n",
              "      <td>0.0</td>\n",
              "    </tr>\n",
              "    <tr>\n",
              "      <th>1947-01-05</th>\n",
              "      <td>-4.0</td>\n",
              "      <td>-12.4</td>\n",
              "      <td>0.0</td>\n",
              "    </tr>\n",
              "    <tr>\n",
              "      <th>...</th>\n",
              "      <td>...</td>\n",
              "      <td>...</td>\n",
              "      <td>...</td>\n",
              "    </tr>\n",
              "    <tr>\n",
              "      <th>2021-09-26</th>\n",
              "      <td>18.7</td>\n",
              "      <td>12.7</td>\n",
              "      <td>0.6</td>\n",
              "    </tr>\n",
              "    <tr>\n",
              "      <th>2021-09-27</th>\n",
              "      <td>18.3</td>\n",
              "      <td>10.7</td>\n",
              "      <td>1.2</td>\n",
              "    </tr>\n",
              "    <tr>\n",
              "      <th>2021-09-28</th>\n",
              "      <td>15.8</td>\n",
              "      <td>9.2</td>\n",
              "      <td>0.0</td>\n",
              "    </tr>\n",
              "    <tr>\n",
              "      <th>2021-09-29</th>\n",
              "      <td>14.3</td>\n",
              "      <td>5.5</td>\n",
              "      <td>4.2</td>\n",
              "    </tr>\n",
              "    <tr>\n",
              "      <th>2021-09-30</th>\n",
              "      <td>14.4</td>\n",
              "      <td>3.6</td>\n",
              "      <td>0.0</td>\n",
              "    </tr>\n",
              "  </tbody>\n",
              "</table>\n",
              "<p>27302 rows × 3 columns</p>\n",
              "</div>"
            ],
            "text/plain": [
              "            High Temperature  Low Temperature  Precipitation\n",
              "Date                                                        \n",
              "1947-01-01               0.7             -0.8            0.0\n",
              "1947-01-02               0.0             -1.5            0.0\n",
              "1947-01-03               1.6             -2.8            0.0\n",
              "1947-01-04              -1.6             -9.2            0.0\n",
              "1947-01-05              -4.0            -12.4            0.0\n",
              "...                      ...              ...            ...\n",
              "2021-09-26              18.7             12.7            0.6\n",
              "2021-09-27              18.3             10.7            1.2\n",
              "2021-09-28              15.8              9.2            0.0\n",
              "2021-09-29              14.3              5.5            4.2\n",
              "2021-09-30              14.4              3.6            0.0\n",
              "\n",
              "[27302 rows x 3 columns]"
            ]
          },
          "metadata": {},
          "execution_count": 16
        }
      ]
    },
    {
      "cell_type": "markdown",
      "metadata": {
        "id": "tUvYINDTXvjI"
      },
      "source": [
        "We now merge the pollen and weather data in a single dataframe using an outer join, and we keep only the data for relevant dates."
      ]
    },
    {
      "cell_type": "code",
      "metadata": {
        "id": "LZmjNJA-WOoW"
      },
      "source": [
        "data = pd.merge(weather_data, pollen_data, left_on='Date', right_on='Date', how='outer')\n",
        "data = data[(data.index >= '1992-01-01') & (data.index < actualization_date)]"
      ],
      "execution_count": 17,
      "outputs": []
    },
    {
      "cell_type": "markdown",
      "metadata": {
        "id": "lZWpo697YPjp"
      },
      "source": [
        "We fiil the NA values with zeroes, since NA are either found for pollen data between October and December (where there is no pollen in the air), or in June 2001 as it is missing from the original website (see remarks in previous section)."
      ]
    },
    {
      "cell_type": "code",
      "metadata": {
        "id": "fYdrEeHiYkKV"
      },
      "source": [
        "data = data.fillna(0)                                                                  # "
      ],
      "execution_count": 18,
      "outputs": []
    },
    {
      "cell_type": "markdown",
      "metadata": {
        "id": "IscNrP6ZYmvE"
      },
      "source": [
        "We add mean temperature, year and day of year to the dataframe as it will be useful for visualization."
      ]
    },
    {
      "cell_type": "code",
      "metadata": {
        "id": "QbEUPWzbEYBC",
        "colab": {
          "base_uri": "https://localhost:8080/",
          "height": 510
        },
        "outputId": "78ea0106-66df-4674-862b-47b6675dc9c1"
      },
      "source": [
        "\n",
        "data['Mean Temperature'] = (data['High Temperature'] + data['Low Temperature'])/2\n",
        "\n",
        "data['Year'] = data.index                                                              # Storing the Year and Day of year as it will be useful later\n",
        "data['Year'] = data['Year'].dt.year\n",
        "\n",
        "data['Day of year'] = data.index\n",
        "data['Day of year'] = data['Day of year'].dt.dayofyear\n",
        "\n",
        "data"
      ],
      "execution_count": 19,
      "outputs": [
        {
          "output_type": "execute_result",
          "data": {
            "text/html": [
              "<div>\n",
              "<style scoped>\n",
              "    .dataframe tbody tr th:only-of-type {\n",
              "        vertical-align: middle;\n",
              "    }\n",
              "\n",
              "    .dataframe tbody tr th {\n",
              "        vertical-align: top;\n",
              "    }\n",
              "\n",
              "    .dataframe thead th {\n",
              "        text-align: right;\n",
              "    }\n",
              "</style>\n",
              "<table border=\"1\" class=\"dataframe\">\n",
              "  <thead>\n",
              "    <tr style=\"text-align: right;\">\n",
              "      <th></th>\n",
              "      <th>High Temperature</th>\n",
              "      <th>Low Temperature</th>\n",
              "      <th>Precipitation</th>\n",
              "      <th>(Ambrosia,)</th>\n",
              "      <th>(Artemisia,)</th>\n",
              "      <th>(Asteraceae,)</th>\n",
              "      <th>(Alnus,)</th>\n",
              "      <th>(Betula,)</th>\n",
              "      <th>(Ericaceae,)</th>\n",
              "      <th>(Carpinus,)</th>\n",
              "      <th>(Castanea,)</th>\n",
              "      <th>(Quercus,)</th>\n",
              "      <th>(Chenopodium,)</th>\n",
              "      <th>(Cupressaceae,)</th>\n",
              "      <th>(Acer,)</th>\n",
              "      <th>(Fraxinus,)</th>\n",
              "      <th>(Gramineae,)</th>\n",
              "      <th>(Fagus,)</th>\n",
              "      <th>(Juncaceae,)</th>\n",
              "      <th>(Aesculus,)</th>\n",
              "      <th>(Larix,)</th>\n",
              "      <th>(Corylus,)</th>\n",
              "      <th>(Juglans,)</th>\n",
              "      <th>(Umbellifereae,)</th>\n",
              "      <th>(Ulmus,)</th>\n",
              "      <th>(Urtica,)</th>\n",
              "      <th>(Rumex,)</th>\n",
              "      <th>(Populus,)</th>\n",
              "      <th>(Pinaceae,)</th>\n",
              "      <th>(Plantago,)</th>\n",
              "      <th>(Platanus,)</th>\n",
              "      <th>(Salix,)</th>\n",
              "      <th>(Cyperaceae,)</th>\n",
              "      <th>(Filipendula,)</th>\n",
              "      <th>(Sambucus,)</th>\n",
              "      <th>(Tilia,)</th>\n",
              "      <th>Mean Temperature</th>\n",
              "      <th>Year</th>\n",
              "      <th>Day of year</th>\n",
              "    </tr>\n",
              "    <tr>\n",
              "      <th>Date</th>\n",
              "      <th></th>\n",
              "      <th></th>\n",
              "      <th></th>\n",
              "      <th></th>\n",
              "      <th></th>\n",
              "      <th></th>\n",
              "      <th></th>\n",
              "      <th></th>\n",
              "      <th></th>\n",
              "      <th></th>\n",
              "      <th></th>\n",
              "      <th></th>\n",
              "      <th></th>\n",
              "      <th></th>\n",
              "      <th></th>\n",
              "      <th></th>\n",
              "      <th></th>\n",
              "      <th></th>\n",
              "      <th></th>\n",
              "      <th></th>\n",
              "      <th></th>\n",
              "      <th></th>\n",
              "      <th></th>\n",
              "      <th></th>\n",
              "      <th></th>\n",
              "      <th></th>\n",
              "      <th></th>\n",
              "      <th></th>\n",
              "      <th></th>\n",
              "      <th></th>\n",
              "      <th></th>\n",
              "      <th></th>\n",
              "      <th></th>\n",
              "      <th></th>\n",
              "      <th></th>\n",
              "      <th></th>\n",
              "      <th></th>\n",
              "      <th></th>\n",
              "      <th></th>\n",
              "    </tr>\n",
              "  </thead>\n",
              "  <tbody>\n",
              "    <tr>\n",
              "      <th>1992-01-01</th>\n",
              "      <td>-0.7</td>\n",
              "      <td>-1.3</td>\n",
              "      <td>0.0</td>\n",
              "      <td>0.0</td>\n",
              "      <td>0.0</td>\n",
              "      <td>0.0</td>\n",
              "      <td>0.0</td>\n",
              "      <td>0.0</td>\n",
              "      <td>0.0</td>\n",
              "      <td>0.0</td>\n",
              "      <td>0.0</td>\n",
              "      <td>0.0</td>\n",
              "      <td>0.0</td>\n",
              "      <td>0.0</td>\n",
              "      <td>0.0</td>\n",
              "      <td>0.0</td>\n",
              "      <td>0.0</td>\n",
              "      <td>0.0</td>\n",
              "      <td>0.0</td>\n",
              "      <td>0.0</td>\n",
              "      <td>0.0</td>\n",
              "      <td>0.0</td>\n",
              "      <td>0.0</td>\n",
              "      <td>0.0</td>\n",
              "      <td>0.0</td>\n",
              "      <td>0.0</td>\n",
              "      <td>0.0</td>\n",
              "      <td>0.0</td>\n",
              "      <td>0.0</td>\n",
              "      <td>0.0</td>\n",
              "      <td>0.0</td>\n",
              "      <td>0.0</td>\n",
              "      <td>0.0</td>\n",
              "      <td>0.0</td>\n",
              "      <td>0.0</td>\n",
              "      <td>0.0</td>\n",
              "      <td>-1.00</td>\n",
              "      <td>1992</td>\n",
              "      <td>1</td>\n",
              "    </tr>\n",
              "    <tr>\n",
              "      <th>1992-01-02</th>\n",
              "      <td>-0.6</td>\n",
              "      <td>-2.7</td>\n",
              "      <td>0.0</td>\n",
              "      <td>0.0</td>\n",
              "      <td>0.0</td>\n",
              "      <td>0.0</td>\n",
              "      <td>0.0</td>\n",
              "      <td>0.0</td>\n",
              "      <td>0.0</td>\n",
              "      <td>0.0</td>\n",
              "      <td>0.0</td>\n",
              "      <td>0.0</td>\n",
              "      <td>0.0</td>\n",
              "      <td>0.0</td>\n",
              "      <td>0.0</td>\n",
              "      <td>0.0</td>\n",
              "      <td>0.0</td>\n",
              "      <td>0.0</td>\n",
              "      <td>0.0</td>\n",
              "      <td>0.0</td>\n",
              "      <td>0.0</td>\n",
              "      <td>0.0</td>\n",
              "      <td>0.0</td>\n",
              "      <td>0.0</td>\n",
              "      <td>0.0</td>\n",
              "      <td>0.0</td>\n",
              "      <td>0.0</td>\n",
              "      <td>0.0</td>\n",
              "      <td>0.0</td>\n",
              "      <td>0.0</td>\n",
              "      <td>0.0</td>\n",
              "      <td>0.0</td>\n",
              "      <td>0.0</td>\n",
              "      <td>0.0</td>\n",
              "      <td>0.0</td>\n",
              "      <td>0.0</td>\n",
              "      <td>-1.65</td>\n",
              "      <td>1992</td>\n",
              "      <td>2</td>\n",
              "    </tr>\n",
              "    <tr>\n",
              "      <th>1992-01-03</th>\n",
              "      <td>2.2</td>\n",
              "      <td>-4.4</td>\n",
              "      <td>0.0</td>\n",
              "      <td>0.0</td>\n",
              "      <td>0.0</td>\n",
              "      <td>0.0</td>\n",
              "      <td>0.0</td>\n",
              "      <td>0.0</td>\n",
              "      <td>0.0</td>\n",
              "      <td>0.0</td>\n",
              "      <td>0.0</td>\n",
              "      <td>0.0</td>\n",
              "      <td>0.0</td>\n",
              "      <td>0.0</td>\n",
              "      <td>0.0</td>\n",
              "      <td>0.0</td>\n",
              "      <td>0.0</td>\n",
              "      <td>0.0</td>\n",
              "      <td>0.0</td>\n",
              "      <td>0.0</td>\n",
              "      <td>0.0</td>\n",
              "      <td>0.0</td>\n",
              "      <td>0.0</td>\n",
              "      <td>0.0</td>\n",
              "      <td>0.0</td>\n",
              "      <td>0.0</td>\n",
              "      <td>0.0</td>\n",
              "      <td>0.0</td>\n",
              "      <td>0.0</td>\n",
              "      <td>0.0</td>\n",
              "      <td>0.0</td>\n",
              "      <td>0.0</td>\n",
              "      <td>0.0</td>\n",
              "      <td>0.0</td>\n",
              "      <td>0.0</td>\n",
              "      <td>0.0</td>\n",
              "      <td>-1.10</td>\n",
              "      <td>1992</td>\n",
              "      <td>3</td>\n",
              "    </tr>\n",
              "    <tr>\n",
              "      <th>1992-01-04</th>\n",
              "      <td>6.9</td>\n",
              "      <td>2.1</td>\n",
              "      <td>4.0</td>\n",
              "      <td>0.0</td>\n",
              "      <td>0.0</td>\n",
              "      <td>0.0</td>\n",
              "      <td>0.0</td>\n",
              "      <td>0.0</td>\n",
              "      <td>0.0</td>\n",
              "      <td>0.0</td>\n",
              "      <td>0.0</td>\n",
              "      <td>0.0</td>\n",
              "      <td>0.0</td>\n",
              "      <td>0.0</td>\n",
              "      <td>0.0</td>\n",
              "      <td>0.0</td>\n",
              "      <td>0.0</td>\n",
              "      <td>0.0</td>\n",
              "      <td>0.0</td>\n",
              "      <td>0.0</td>\n",
              "      <td>0.0</td>\n",
              "      <td>0.0</td>\n",
              "      <td>0.0</td>\n",
              "      <td>0.0</td>\n",
              "      <td>0.0</td>\n",
              "      <td>0.0</td>\n",
              "      <td>0.0</td>\n",
              "      <td>0.0</td>\n",
              "      <td>0.0</td>\n",
              "      <td>0.0</td>\n",
              "      <td>0.0</td>\n",
              "      <td>0.0</td>\n",
              "      <td>0.0</td>\n",
              "      <td>0.0</td>\n",
              "      <td>0.0</td>\n",
              "      <td>0.0</td>\n",
              "      <td>4.50</td>\n",
              "      <td>1992</td>\n",
              "      <td>4</td>\n",
              "    </tr>\n",
              "    <tr>\n",
              "      <th>1992-01-05</th>\n",
              "      <td>7.8</td>\n",
              "      <td>6.4</td>\n",
              "      <td>0.5</td>\n",
              "      <td>0.0</td>\n",
              "      <td>0.0</td>\n",
              "      <td>0.0</td>\n",
              "      <td>0.0</td>\n",
              "      <td>0.0</td>\n",
              "      <td>0.0</td>\n",
              "      <td>0.0</td>\n",
              "      <td>0.0</td>\n",
              "      <td>0.0</td>\n",
              "      <td>0.0</td>\n",
              "      <td>0.0</td>\n",
              "      <td>0.0</td>\n",
              "      <td>0.0</td>\n",
              "      <td>0.0</td>\n",
              "      <td>0.0</td>\n",
              "      <td>0.0</td>\n",
              "      <td>0.0</td>\n",
              "      <td>0.0</td>\n",
              "      <td>0.0</td>\n",
              "      <td>0.0</td>\n",
              "      <td>0.0</td>\n",
              "      <td>0.0</td>\n",
              "      <td>0.0</td>\n",
              "      <td>0.0</td>\n",
              "      <td>0.0</td>\n",
              "      <td>0.0</td>\n",
              "      <td>0.0</td>\n",
              "      <td>0.0</td>\n",
              "      <td>0.0</td>\n",
              "      <td>0.0</td>\n",
              "      <td>0.0</td>\n",
              "      <td>0.0</td>\n",
              "      <td>0.0</td>\n",
              "      <td>7.10</td>\n",
              "      <td>1992</td>\n",
              "      <td>5</td>\n",
              "    </tr>\n",
              "    <tr>\n",
              "      <th>...</th>\n",
              "      <td>...</td>\n",
              "      <td>...</td>\n",
              "      <td>...</td>\n",
              "      <td>...</td>\n",
              "      <td>...</td>\n",
              "      <td>...</td>\n",
              "      <td>...</td>\n",
              "      <td>...</td>\n",
              "      <td>...</td>\n",
              "      <td>...</td>\n",
              "      <td>...</td>\n",
              "      <td>...</td>\n",
              "      <td>...</td>\n",
              "      <td>...</td>\n",
              "      <td>...</td>\n",
              "      <td>...</td>\n",
              "      <td>...</td>\n",
              "      <td>...</td>\n",
              "      <td>...</td>\n",
              "      <td>...</td>\n",
              "      <td>...</td>\n",
              "      <td>...</td>\n",
              "      <td>...</td>\n",
              "      <td>...</td>\n",
              "      <td>...</td>\n",
              "      <td>...</td>\n",
              "      <td>...</td>\n",
              "      <td>...</td>\n",
              "      <td>...</td>\n",
              "      <td>...</td>\n",
              "      <td>...</td>\n",
              "      <td>...</td>\n",
              "      <td>...</td>\n",
              "      <td>...</td>\n",
              "      <td>...</td>\n",
              "      <td>...</td>\n",
              "      <td>...</td>\n",
              "      <td>...</td>\n",
              "      <td>...</td>\n",
              "    </tr>\n",
              "    <tr>\n",
              "      <th>2021-09-26</th>\n",
              "      <td>18.7</td>\n",
              "      <td>12.7</td>\n",
              "      <td>0.6</td>\n",
              "      <td>0.0</td>\n",
              "      <td>0.0</td>\n",
              "      <td>0.0</td>\n",
              "      <td>0.0</td>\n",
              "      <td>0.0</td>\n",
              "      <td>0.0</td>\n",
              "      <td>0.0</td>\n",
              "      <td>0.0</td>\n",
              "      <td>0.0</td>\n",
              "      <td>0.0</td>\n",
              "      <td>0.0</td>\n",
              "      <td>0.0</td>\n",
              "      <td>0.0</td>\n",
              "      <td>0.0</td>\n",
              "      <td>0.0</td>\n",
              "      <td>0.0</td>\n",
              "      <td>0.0</td>\n",
              "      <td>0.0</td>\n",
              "      <td>0.0</td>\n",
              "      <td>0.0</td>\n",
              "      <td>0.0</td>\n",
              "      <td>0.0</td>\n",
              "      <td>1.0</td>\n",
              "      <td>0.0</td>\n",
              "      <td>0.0</td>\n",
              "      <td>1.0</td>\n",
              "      <td>0.0</td>\n",
              "      <td>0.0</td>\n",
              "      <td>0.0</td>\n",
              "      <td>0.0</td>\n",
              "      <td>0.0</td>\n",
              "      <td>0.0</td>\n",
              "      <td>0.0</td>\n",
              "      <td>15.70</td>\n",
              "      <td>2021</td>\n",
              "      <td>269</td>\n",
              "    </tr>\n",
              "    <tr>\n",
              "      <th>2021-09-27</th>\n",
              "      <td>18.3</td>\n",
              "      <td>10.7</td>\n",
              "      <td>1.2</td>\n",
              "      <td>0.0</td>\n",
              "      <td>0.0</td>\n",
              "      <td>0.0</td>\n",
              "      <td>0.0</td>\n",
              "      <td>0.0</td>\n",
              "      <td>0.0</td>\n",
              "      <td>0.0</td>\n",
              "      <td>0.0</td>\n",
              "      <td>0.0</td>\n",
              "      <td>0.0</td>\n",
              "      <td>0.0</td>\n",
              "      <td>0.0</td>\n",
              "      <td>0.0</td>\n",
              "      <td>0.0</td>\n",
              "      <td>0.0</td>\n",
              "      <td>0.0</td>\n",
              "      <td>0.0</td>\n",
              "      <td>0.0</td>\n",
              "      <td>0.0</td>\n",
              "      <td>0.0</td>\n",
              "      <td>0.0</td>\n",
              "      <td>0.0</td>\n",
              "      <td>0.0</td>\n",
              "      <td>0.0</td>\n",
              "      <td>0.0</td>\n",
              "      <td>17.0</td>\n",
              "      <td>0.0</td>\n",
              "      <td>0.0</td>\n",
              "      <td>0.0</td>\n",
              "      <td>0.0</td>\n",
              "      <td>0.0</td>\n",
              "      <td>0.0</td>\n",
              "      <td>0.0</td>\n",
              "      <td>14.50</td>\n",
              "      <td>2021</td>\n",
              "      <td>270</td>\n",
              "    </tr>\n",
              "    <tr>\n",
              "      <th>2021-09-28</th>\n",
              "      <td>15.8</td>\n",
              "      <td>9.2</td>\n",
              "      <td>0.0</td>\n",
              "      <td>0.0</td>\n",
              "      <td>0.0</td>\n",
              "      <td>0.0</td>\n",
              "      <td>0.0</td>\n",
              "      <td>0.0</td>\n",
              "      <td>0.0</td>\n",
              "      <td>0.0</td>\n",
              "      <td>0.0</td>\n",
              "      <td>0.0</td>\n",
              "      <td>0.0</td>\n",
              "      <td>0.0</td>\n",
              "      <td>0.0</td>\n",
              "      <td>0.0</td>\n",
              "      <td>0.0</td>\n",
              "      <td>0.0</td>\n",
              "      <td>0.0</td>\n",
              "      <td>0.0</td>\n",
              "      <td>0.0</td>\n",
              "      <td>0.0</td>\n",
              "      <td>0.0</td>\n",
              "      <td>0.0</td>\n",
              "      <td>0.0</td>\n",
              "      <td>0.0</td>\n",
              "      <td>0.0</td>\n",
              "      <td>0.0</td>\n",
              "      <td>0.0</td>\n",
              "      <td>0.0</td>\n",
              "      <td>0.0</td>\n",
              "      <td>0.0</td>\n",
              "      <td>0.0</td>\n",
              "      <td>0.0</td>\n",
              "      <td>0.0</td>\n",
              "      <td>0.0</td>\n",
              "      <td>12.50</td>\n",
              "      <td>2021</td>\n",
              "      <td>271</td>\n",
              "    </tr>\n",
              "    <tr>\n",
              "      <th>2021-09-29</th>\n",
              "      <td>14.3</td>\n",
              "      <td>5.5</td>\n",
              "      <td>4.2</td>\n",
              "      <td>0.0</td>\n",
              "      <td>1.0</td>\n",
              "      <td>0.0</td>\n",
              "      <td>0.0</td>\n",
              "      <td>0.0</td>\n",
              "      <td>0.0</td>\n",
              "      <td>0.0</td>\n",
              "      <td>0.0</td>\n",
              "      <td>0.0</td>\n",
              "      <td>0.0</td>\n",
              "      <td>0.0</td>\n",
              "      <td>0.0</td>\n",
              "      <td>0.0</td>\n",
              "      <td>0.0</td>\n",
              "      <td>0.0</td>\n",
              "      <td>0.0</td>\n",
              "      <td>0.0</td>\n",
              "      <td>0.0</td>\n",
              "      <td>0.0</td>\n",
              "      <td>0.0</td>\n",
              "      <td>0.0</td>\n",
              "      <td>0.0</td>\n",
              "      <td>0.0</td>\n",
              "      <td>0.0</td>\n",
              "      <td>0.0</td>\n",
              "      <td>10.0</td>\n",
              "      <td>0.0</td>\n",
              "      <td>0.0</td>\n",
              "      <td>0.0</td>\n",
              "      <td>0.0</td>\n",
              "      <td>0.0</td>\n",
              "      <td>0.0</td>\n",
              "      <td>0.0</td>\n",
              "      <td>9.90</td>\n",
              "      <td>2021</td>\n",
              "      <td>272</td>\n",
              "    </tr>\n",
              "    <tr>\n",
              "      <th>2021-09-30</th>\n",
              "      <td>14.4</td>\n",
              "      <td>3.6</td>\n",
              "      <td>0.0</td>\n",
              "      <td>0.0</td>\n",
              "      <td>0.0</td>\n",
              "      <td>0.0</td>\n",
              "      <td>0.0</td>\n",
              "      <td>0.0</td>\n",
              "      <td>0.0</td>\n",
              "      <td>0.0</td>\n",
              "      <td>0.0</td>\n",
              "      <td>0.0</td>\n",
              "      <td>0.0</td>\n",
              "      <td>0.0</td>\n",
              "      <td>0.0</td>\n",
              "      <td>0.0</td>\n",
              "      <td>0.0</td>\n",
              "      <td>0.0</td>\n",
              "      <td>0.0</td>\n",
              "      <td>0.0</td>\n",
              "      <td>0.0</td>\n",
              "      <td>0.0</td>\n",
              "      <td>0.0</td>\n",
              "      <td>0.0</td>\n",
              "      <td>0.0</td>\n",
              "      <td>0.0</td>\n",
              "      <td>0.0</td>\n",
              "      <td>0.0</td>\n",
              "      <td>17.0</td>\n",
              "      <td>0.0</td>\n",
              "      <td>0.0</td>\n",
              "      <td>0.0</td>\n",
              "      <td>0.0</td>\n",
              "      <td>0.0</td>\n",
              "      <td>0.0</td>\n",
              "      <td>0.0</td>\n",
              "      <td>9.00</td>\n",
              "      <td>2021</td>\n",
              "      <td>273</td>\n",
              "    </tr>\n",
              "  </tbody>\n",
              "</table>\n",
              "<p>10866 rows × 39 columns</p>\n",
              "</div>"
            ],
            "text/plain": [
              "            High Temperature  Low Temperature  ...  Year  Day of year\n",
              "Date                                           ...                   \n",
              "1992-01-01              -0.7             -1.3  ...  1992            1\n",
              "1992-01-02              -0.6             -2.7  ...  1992            2\n",
              "1992-01-03               2.2             -4.4  ...  1992            3\n",
              "1992-01-04               6.9              2.1  ...  1992            4\n",
              "1992-01-05               7.8              6.4  ...  1992            5\n",
              "...                      ...              ...  ...   ...          ...\n",
              "2021-09-26              18.7             12.7  ...  2021          269\n",
              "2021-09-27              18.3             10.7  ...  2021          270\n",
              "2021-09-28              15.8              9.2  ...  2021          271\n",
              "2021-09-29              14.3              5.5  ...  2021          272\n",
              "2021-09-30              14.4              3.6  ...  2021          273\n",
              "\n",
              "[10866 rows x 39 columns]"
            ]
          },
          "metadata": {},
          "execution_count": 19
        }
      ]
    },
    {
      "cell_type": "markdown",
      "metadata": {
        "id": "5XNh_rZ8ZAFE"
      },
      "source": [
        "We now store the data as a csv file."
      ]
    },
    {
      "cell_type": "code",
      "metadata": {
        "id": "72XccCY7n_Gd"
      },
      "source": [
        "from google.colab import files"
      ],
      "execution_count": 20,
      "outputs": []
    },
    {
      "cell_type": "code",
      "metadata": {
        "colab": {
          "base_uri": "https://localhost:8080/",
          "height": 17
        },
        "id": "9oOokEcDn_Gk",
        "outputId": "81df0b06-2b15-4e26-9d59-24f5eccbd0a9"
      },
      "source": [
        "data.to_csv('data.csv', index=True)\n",
        "files.download('data.csv')"
      ],
      "execution_count": 21,
      "outputs": [
        {
          "output_type": "display_data",
          "data": {
            "application/javascript": [
              "\n",
              "    async function download(id, filename, size) {\n",
              "      if (!google.colab.kernel.accessAllowed) {\n",
              "        return;\n",
              "      }\n",
              "      const div = document.createElement('div');\n",
              "      const label = document.createElement('label');\n",
              "      label.textContent = `Downloading \"${filename}\": `;\n",
              "      div.appendChild(label);\n",
              "      const progress = document.createElement('progress');\n",
              "      progress.max = size;\n",
              "      div.appendChild(progress);\n",
              "      document.body.appendChild(div);\n",
              "\n",
              "      const buffers = [];\n",
              "      let downloaded = 0;\n",
              "\n",
              "      const channel = await google.colab.kernel.comms.open(id);\n",
              "      // Send a message to notify the kernel that we're ready.\n",
              "      channel.send({})\n",
              "\n",
              "      for await (const message of channel.messages) {\n",
              "        // Send a message to notify the kernel that we're ready.\n",
              "        channel.send({})\n",
              "        if (message.buffers) {\n",
              "          for (const buffer of message.buffers) {\n",
              "            buffers.push(buffer);\n",
              "            downloaded += buffer.byteLength;\n",
              "            progress.value = downloaded;\n",
              "          }\n",
              "        }\n",
              "      }\n",
              "      const blob = new Blob(buffers, {type: 'application/binary'});\n",
              "      const a = document.createElement('a');\n",
              "      a.href = window.URL.createObjectURL(blob);\n",
              "      a.download = filename;\n",
              "      div.appendChild(a);\n",
              "      a.click();\n",
              "      div.remove();\n",
              "    }\n",
              "  "
            ],
            "text/plain": [
              "<IPython.core.display.Javascript object>"
            ]
          },
          "metadata": {}
        },
        {
          "output_type": "display_data",
          "data": {
            "application/javascript": [
              "download(\"download_b1011d84-e6af-4bf7-bd9d-07ba353e113e\", \"data.csv\", 1892324)"
            ],
            "text/plain": [
              "<IPython.core.display.Javascript object>"
            ]
          },
          "metadata": {}
        }
      ]
    }
  ]
}